{
 "cells": [
  {
   "cell_type": "code",
   "execution_count": 1,
   "id": "55f427fa",
   "metadata": {},
   "outputs": [],
   "source": [
    "import matplotlib.pyplot as plt \n",
    "import numpy as np \n",
    "import pandas as pd \n",
    "import sklearn.linear_model"
   ]
  },
  {
   "cell_type": "markdown",
   "id": "e7404896",
   "metadata": {},
   "source": [
    "## Download dataset"
   ]
  },
  {
   "cell_type": "code",
   "execution_count": 4,
   "id": "83c32151",
   "metadata": {},
   "outputs": [],
   "source": [
    "oecd_bli = pd.read_csv ( \"datasets/lifesat/oecd_bli_2015.csv\" , thousands = ',' ) \n",
    "gdp_per_capita = pd.read_csv(\"datasets/lifesat/gdp_per_capita.csv\" , thousands = ',' , delimiter = '\\t' , encoding = 'latin1' , na_values = \"n/a\" )"
   ]
  },
  {
   "cell_type": "markdown",
   "id": "892be127",
   "metadata": {},
   "source": [
    "## Function to prepare country stats"
   ]
  },
  {
   "cell_type": "code",
   "execution_count": 6,
   "id": "ee929240",
   "metadata": {},
   "outputs": [],
   "source": [
    "def prepare_country_stats(oecd_bli, gdp_per_capita):\n",
    "    oecd_bli = oecd_bli[oecd_bli[\"INEQUALITY\"]==\"TOT\"]\n",
    "    oecd_bli = oecd_bli.pivot(index=\"Country\", columns=\"Indicator\", values=\"Value\")\n",
    "    gdp_per_capita.rename(columns={\"2015\": \"GDP per capita\"}, inplace=True)\n",
    "    gdp_per_capita.set_index(\"Country\", inplace=True)\n",
    "    full_country_stats = pd.merge(left=oecd_bli, right=gdp_per_capita,\n",
    "                                  left_index=True, right_index=True)\n",
    "    full_country_stats.sort_values(by=\"GDP per capita\", inplace=True)\n",
    "    remove_indices = [0, 1, 6, 8, 33, 34, 35]\n",
    "    keep_indices = list(set(range(36)) - set(remove_indices))\n",
    "    return full_country_stats[[\"GDP per capita\", 'Life satisfaction']].iloc[keep_indices]"
   ]
  },
  {
   "cell_type": "code",
   "execution_count": 7,
   "id": "dc36033f",
   "metadata": {},
   "outputs": [],
   "source": [
    "country_stats = prepare_country_stats(oecd_bli, gdp_per_capita)\n",
    "X = np.c_[country_stats[\"GDP per capita\"]]\n",
    "y = np.c_ [country_stats[\"Life satisfaction\"]]"
   ]
  },
  {
   "cell_type": "markdown",
   "id": "df4b9b6a",
   "metadata": {},
   "source": [
    "## Visualize the data"
   ]
  },
  {
   "cell_type": "code",
   "execution_count": 8,
   "id": "4e2010cf",
   "metadata": {},
   "outputs": [
    {
     "data": {
      "image/png": "[encoded data removed]",
      "text/plain": [
       "<Figure size 432x288 with 1 Axes>"
      ]
     },
     "metadata": {
      "needs_background": "light"
     },
     "output_type": "display_data"
    },
    {
     "name": "stdout",
     "output_type": "stream",
     "text": [
      "[[5.96242338]]\n"
     ]
    }
   ],
   "source": [
    "# Visualize the data\n",
    "country_stats.plot(kind='scatter', x=\"GDP per capita\", y='Life satisfaction')\n",
    "plt.show()\n",
    "\n"
   ]
  },
  {
   "cell_type": "markdown",
   "id": "d2266f2e",
   "metadata": {},
   "source": [
    "## Trying out Linear Model"
   ]
  },
  {
   "cell_type": "code",
   "execution_count": 14,
   "id": "8eb733cf",
   "metadata": {},
   "outputs": [
    {
     "name": "stdout",
     "output_type": "stream",
     "text": [
      "[[5.96242338]]\n"
     ]
    }
   ],
   "source": [
    "# Select a linear model\n",
    "model = sklearn.linear_model.LinearRegression()\n",
    "\n",
    "# Train the model\n",
    "model.fit(X, y)\n",
    "\n",
    "# Make a prediction for Cyprus\n",
    "X_new = [[22587]]  # Cyprus' GDP per capita\n",
    "print(model.predict(X_new)) # outputs [[ 5.96242338]]"
   ]
  },
  {
   "cell_type": "markdown",
   "id": "45f21c15",
   "metadata": {},
   "source": [
    "## trying out k-Nearest Neighbors"
   ]
  },
  {
   "cell_type": "code",
   "execution_count": 11,
   "id": "a9fa1bec",
   "metadata": {},
   "outputs": [
    {
     "name": "stdout",
     "output_type": "stream",
     "text": [
      "[[5.76666667]]\n"
     ]
    }
   ],
   "source": [
    "import sklearn.neighbors\n",
    "model_knn = sklearn.neighbors.KNeighborsRegressor ( n_neighbors = 3 )\n",
    "# Train the model\n",
    "model_knn.fit(X, y)\n",
    "\n",
    "# Make a prediction for Cyprus\n",
    "X_new = [[22587]]  # Cyprus' GDP per capita\n",
    "print(model_knn.predict(X_new)) # outputs [[ 5.96242338]]"
   ]
  },
  {
   "cell_type": "markdown",
   "id": "63f0637a",
   "metadata": {},
   "source": [
    "### Question Answers After Exercise"
   ]
  },
  {
   "cell_type": "markdown",
   "id": "c9061484",
   "metadata": {},
   "source": [
    "#### 1. How would you define Machine Learning?"
   ]
  },
  {
   "cell_type": "markdown",
   "id": "7893cffc",
   "metadata": {},
   "source": [
    "Machine Learning can be defined as improving on task t given a performace p"
   ]
  },
  {
   "cell_type": "markdown",
   "id": "b23a25cf",
   "metadata": {},
   "source": [
    "#### 2. Can you name four types of problems where it shines?"
   ]
  },
  {
   "cell_type": "markdown",
   "id": "7e4e2c95",
   "metadata": {},
   "source": [
    "Good for complex problems with \n",
    "- No algorithmic solution\n",
    "- lot of hard tuning\n",
    "- Fluctiuating environment\n",
    "- data mining to find patterns "
   ]
  },
  {
   "cell_type": "markdown",
   "id": "5c67cd51",
   "metadata": {},
   "source": [
    "#### 3.What is a labeled training set?"
   ]
  },
  {
   "cell_type": "markdown",
   "id": "7d5c7266",
   "metadata": {},
   "source": [
    "which has predicted value of class"
   ]
  },
  {
   "cell_type": "markdown",
   "id": "5b5bfb07",
   "metadata": {},
   "source": [
    "#### 4.What are the two most common supervised tasks?"
   ]
  },
  {
   "cell_type": "markdown",
   "id": "d3f2bc03",
   "metadata": {},
   "source": [
    "- classification\n",
    "- regresssion"
   ]
  },
  {
   "cell_type": "markdown",
   "id": "c7342996",
   "metadata": {},
   "source": [
    "#### 5. Can you name four common unsupervised tasks?"
   ]
  },
  {
   "cell_type": "markdown",
   "id": "c24cd00e",
   "metadata": {},
   "source": [
    "- clustering\n",
    "- aggregation\n",
    "- "
   ]
  },
  {
   "cell_type": "markdown",
   "id": "b19fc47a",
   "metadata": {},
   "source": [
    "#### 6. What type of Machine Learning algorithm would you use to allow a robot to walk in various unknown terrains?"
   ]
  },
  {
   "cell_type": "markdown",
   "id": "a597ed70",
   "metadata": {},
   "source": [
    "reinforcement learning"
   ]
  },
  {
   "cell_type": "markdown",
   "id": "edfb7d7c",
   "metadata": {},
   "source": [
    "#### 7. What type of algorithm would you use to segment your customers into multiple groups?"
   ]
  },
  {
   "cell_type": "markdown",
   "id": "ba78a10a",
   "metadata": {},
   "source": [
    "clustering - KMeans"
   ]
  },
  {
   "cell_type": "markdown",
   "id": "2b95e135",
   "metadata": {},
   "source": [
    "#### 8. Would you frame the problem of spam detection as a supervised learning problem or an unsupervised learning problem?"
   ]
  },
  {
   "cell_type": "markdown",
   "id": "7159f43c",
   "metadata": {},
   "source": [
    "supervised"
   ]
  },
  {
   "cell_type": "markdown",
   "id": "ffed0d37",
   "metadata": {},
   "source": [
    "#### 9. What is an online learning system?"
   ]
  },
  {
   "cell_type": "markdown",
   "id": "7d391408",
   "metadata": {},
   "source": [
    "Learn continuosly with stream of data"
   ]
  },
  {
   "cell_type": "markdown",
   "id": "ed35d4db",
   "metadata": {},
   "source": [
    "#### 10. What is out-of-core learning?"
   ]
  },
  {
   "cell_type": "markdown",
   "id": "a3a7f218",
   "metadata": {},
   "source": []
  },
  {
   "cell_type": "markdown",
   "id": "950dbce8",
   "metadata": {},
   "source": [
    "#### 11. What type of learning algorithm relies on a similarity measure to make predictions?"
   ]
  },
  {
   "cell_type": "markdown",
   "id": "e89b2683",
   "metadata": {},
   "source": []
  },
  {
   "cell_type": "markdown",
   "id": "4803ae61",
   "metadata": {},
   "source": [
    "#### 12. What is the difference between a model parameter and a learning algorithm’s hyperparameter?"
   ]
  },
  {
   "cell_type": "markdown",
   "id": "918ffcfb",
   "metadata": {},
   "source": []
  },
  {
   "cell_type": "markdown",
   "id": "58ec1e27",
   "metadata": {},
   "source": [
    "#### 13. What do model-based learning algorithms search for? What is the most common strategy they use to succeed? How do they make predictions?"
   ]
  },
  {
   "cell_type": "markdown",
   "id": "efa65b1f",
   "metadata": {},
   "source": []
  },
  {
   "cell_type": "markdown",
   "id": "7e9a72c8",
   "metadata": {},
   "source": [
    "#### 14. Can you name four of the main challenges in Machine Learning?"
   ]
  },
  {
   "cell_type": "markdown",
   "id": "b0fda015",
   "metadata": {},
   "source": []
  },
  {
   "cell_type": "markdown",
   "id": "dde7e99e",
   "metadata": {},
   "source": [
    "#### 15. If your model performs great on the training data but generalizes poorly to new instances, what is happening? Can you name three possible solutions?"
   ]
  },
  {
   "cell_type": "markdown",
   "id": "38d6bb50",
   "metadata": {},
   "source": []
  },
  {
   "cell_type": "markdown",
   "id": "fd232c71",
   "metadata": {},
   "source": [
    "#### 16. What is a test set, and why would you want to use it?"
   ]
  },
  {
   "cell_type": "markdown",
   "id": "a51370a7",
   "metadata": {},
   "source": []
  },
  {
   "cell_type": "markdown",
   "id": "39a2aa4e",
   "metadata": {},
   "source": [
    "#### 17. What is the purpose of a validation set?"
   ]
  },
  {
   "cell_type": "markdown",
   "id": "b31b4a75",
   "metadata": {},
   "source": []
  },
  {
   "cell_type": "markdown",
   "id": "6d7a547d",
   "metadata": {},
   "source": [
    "#### 18. What is the train-dev set, when do you need it, and how do you use it?"
   ]
  },
  {
   "cell_type": "markdown",
   "id": "3dcebbb2",
   "metadata": {},
   "source": []
  },
  {
   "cell_type": "markdown",
   "id": "579f296a",
   "metadata": {},
   "source": [
    "#### 19. What can go wrong if you tune hyperparameters using the test set?"
   ]
  },
  {
   "cell_type": "markdown",
   "id": "c5038ef3",
   "metadata": {},
   "source": []
  }
 ],
 "metadata": {
  "kernelspec": {
   "display_name": "Python 3",
   "language": "python",
   "name": "python3"
  },
  "language_info": {
   "codemirror_mode": {
    "name": "ipython",
    "version": 3
   },
   "file_extension": ".py",
   "mimetype": "text/x-python",
   "name": "python",
   "nbconvert_exporter": "python",
   "pygments_lexer": "ipython3",
   "version": "3.7.10"
  }
 },
 "nbformat": 4,
 "nbformat_minor": 5
}

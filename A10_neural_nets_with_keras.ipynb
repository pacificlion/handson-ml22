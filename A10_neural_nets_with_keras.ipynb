{
 "cells": [
  {
   "cell_type": "markdown",
   "id": "e96ebd8e",
   "metadata": {},
   "source": [
    "Started with chapter 10. Some references were there in chapter 14"
   ]
  },
  {
   "cell_type": "markdown",
   "id": "2a55259d",
   "metadata": {},
   "source": [
    "**Perceptron**\n",
    "![perceptron](images/prashant/perceptron.png)"
   ]
  },
  {
   "cell_type": "code",
   "execution_count": 1,
   "id": "20f7232f",
   "metadata": {},
   "outputs": [],
   "source": [
    "import numpy as np\n",
    "from sklearn.datasets import load_iris\n",
    "from sklearn.linear_model import Perceptron\n",
    "\n",
    "iris = load_iris()\n",
    "# selected column 2 & 3\n",
    "X = iris.data[:, (2, 3)]  # petal length, petal width\n",
    "y = (iris.target == 0).astype(np.int)  # Iris setosa?\n",
    "\n",
    "per_clf = Perceptron()\n",
    "per_clf.fit(X, y)\n",
    "\n",
    "y_pred = per_clf.predict([[2, 0.5]])"
   ]
  },
  {
   "cell_type": "code",
   "execution_count": 2,
   "id": "95df53e0",
   "metadata": {},
   "outputs": [
    {
     "name": "stdout",
     "output_type": "stream",
     "text": [
      "[0]\n"
     ]
    }
   ],
   "source": [
    "print(per_clf.predict([[4, 2.5]]))"
   ]
  },
  {
   "cell_type": "code",
   "execution_count": 3,
   "id": "7f3d25a2",
   "metadata": {},
   "outputs": [
    {
     "data": {
      "text/plain": [
       "array([0, 0, 0, 0, 0, 0, 0, 0, 0, 0, 0, 0, 0, 0, 0, 0, 0, 0, 0, 0, 0, 0,\n",
       "       0, 0, 0, 0, 0, 0, 0, 0, 0, 0, 0, 0, 0, 0, 0, 0, 0, 0, 0, 0, 0, 0,\n",
       "       0, 0, 0, 0, 0, 0, 1, 1, 1, 1, 1, 1, 1, 1, 1, 1, 1, 1, 1, 1, 1, 1,\n",
       "       1, 1, 1, 1, 1, 1, 1, 1, 1, 1, 1, 1, 1, 1, 1, 1, 1, 1, 1, 1, 1, 1,\n",
       "       1, 1, 1, 1, 1, 1, 1, 1, 1, 1, 1, 1, 2, 2, 2, 2, 2, 2, 2, 2, 2, 2,\n",
       "       2, 2, 2, 2, 2, 2, 2, 2, 2, 2, 2, 2, 2, 2, 2, 2, 2, 2, 2, 2, 2, 2,\n",
       "       2, 2, 2, 2, 2, 2, 2, 2, 2, 2, 2, 2, 2, 2, 2, 2, 2, 2])"
      ]
     },
     "execution_count": 3,
     "metadata": {},
     "output_type": "execute_result"
    }
   ],
   "source": [
    "iris.target"
   ]
  },
  {
   "cell_type": "code",
   "execution_count": 4,
   "id": "4dcccdf8",
   "metadata": {},
   "outputs": [
    {
     "data": {
      "text/plain": [
       "array([[5.1, 3.5, 1.4],\n",
       "       [4.9, 3. , 1.4],\n",
       "       [4.7, 3.2, 1.3],\n",
       "       [4.6, 3.1, 1.5],\n",
       "       [5. , 3.6, 1.4],\n",
       "       [5.4, 3.9, 1.7],\n",
       "       [4.6, 3.4, 1.4],\n",
       "       [5. , 3.4, 1.5],\n",
       "       [4.4, 2.9, 1.4],\n",
       "       [4.9, 3.1, 1.5],\n",
       "       [5.4, 3.7, 1.5],\n",
       "       [4.8, 3.4, 1.6],\n",
       "       [4.8, 3. , 1.4],\n",
       "       [4.3, 3. , 1.1],\n",
       "       [5.8, 4. , 1.2],\n",
       "       [5.7, 4.4, 1.5],\n",
       "       [5.4, 3.9, 1.3],\n",
       "       [5.1, 3.5, 1.4],\n",
       "       [5.7, 3.8, 1.7],\n",
       "       [5.1, 3.8, 1.5],\n",
       "       [5.4, 3.4, 1.7],\n",
       "       [5.1, 3.7, 1.5],\n",
       "       [4.6, 3.6, 1. ],\n",
       "       [5.1, 3.3, 1.7],\n",
       "       [4.8, 3.4, 1.9],\n",
       "       [5. , 3. , 1.6],\n",
       "       [5. , 3.4, 1.6],\n",
       "       [5.2, 3.5, 1.5],\n",
       "       [5.2, 3.4, 1.4],\n",
       "       [4.7, 3.2, 1.6],\n",
       "       [4.8, 3.1, 1.6],\n",
       "       [5.4, 3.4, 1.5],\n",
       "       [5.2, 4.1, 1.5],\n",
       "       [5.5, 4.2, 1.4],\n",
       "       [4.9, 3.1, 1.5],\n",
       "       [5. , 3.2, 1.2],\n",
       "       [5.5, 3.5, 1.3],\n",
       "       [4.9, 3.6, 1.4],\n",
       "       [4.4, 3. , 1.3],\n",
       "       [5.1, 3.4, 1.5],\n",
       "       [5. , 3.5, 1.3],\n",
       "       [4.5, 2.3, 1.3],\n",
       "       [4.4, 3.2, 1.3],\n",
       "       [5. , 3.5, 1.6],\n",
       "       [5.1, 3.8, 1.9],\n",
       "       [4.8, 3. , 1.4],\n",
       "       [5.1, 3.8, 1.6],\n",
       "       [4.6, 3.2, 1.4],\n",
       "       [5.3, 3.7, 1.5],\n",
       "       [5. , 3.3, 1.4],\n",
       "       [7. , 3.2, 4.7],\n",
       "       [6.4, 3.2, 4.5],\n",
       "       [6.9, 3.1, 4.9],\n",
       "       [5.5, 2.3, 4. ],\n",
       "       [6.5, 2.8, 4.6],\n",
       "       [5.7, 2.8, 4.5],\n",
       "       [6.3, 3.3, 4.7],\n",
       "       [4.9, 2.4, 3.3],\n",
       "       [6.6, 2.9, 4.6],\n",
       "       [5.2, 2.7, 3.9],\n",
       "       [5. , 2. , 3.5],\n",
       "       [5.9, 3. , 4.2],\n",
       "       [6. , 2.2, 4. ],\n",
       "       [6.1, 2.9, 4.7],\n",
       "       [5.6, 2.9, 3.6],\n",
       "       [6.7, 3.1, 4.4],\n",
       "       [5.6, 3. , 4.5],\n",
       "       [5.8, 2.7, 4.1],\n",
       "       [6.2, 2.2, 4.5],\n",
       "       [5.6, 2.5, 3.9],\n",
       "       [5.9, 3.2, 4.8],\n",
       "       [6.1, 2.8, 4. ],\n",
       "       [6.3, 2.5, 4.9],\n",
       "       [6.1, 2.8, 4.7],\n",
       "       [6.4, 2.9, 4.3],\n",
       "       [6.6, 3. , 4.4],\n",
       "       [6.8, 2.8, 4.8],\n",
       "       [6.7, 3. , 5. ],\n",
       "       [6. , 2.9, 4.5],\n",
       "       [5.7, 2.6, 3.5],\n",
       "       [5.5, 2.4, 3.8],\n",
       "       [5.5, 2.4, 3.7],\n",
       "       [5.8, 2.7, 3.9],\n",
       "       [6. , 2.7, 5.1],\n",
       "       [5.4, 3. , 4.5],\n",
       "       [6. , 3.4, 4.5],\n",
       "       [6.7, 3.1, 4.7],\n",
       "       [6.3, 2.3, 4.4],\n",
       "       [5.6, 3. , 4.1],\n",
       "       [5.5, 2.5, 4. ],\n",
       "       [5.5, 2.6, 4.4],\n",
       "       [6.1, 3. , 4.6],\n",
       "       [5.8, 2.6, 4. ],\n",
       "       [5. , 2.3, 3.3],\n",
       "       [5.6, 2.7, 4.2],\n",
       "       [5.7, 3. , 4.2],\n",
       "       [5.7, 2.9, 4.2],\n",
       "       [6.2, 2.9, 4.3],\n",
       "       [5.1, 2.5, 3. ],\n",
       "       [5.7, 2.8, 4.1],\n",
       "       [6.3, 3.3, 6. ],\n",
       "       [5.8, 2.7, 5.1],\n",
       "       [7.1, 3. , 5.9],\n",
       "       [6.3, 2.9, 5.6],\n",
       "       [6.5, 3. , 5.8],\n",
       "       [7.6, 3. , 6.6],\n",
       "       [4.9, 2.5, 4.5],\n",
       "       [7.3, 2.9, 6.3],\n",
       "       [6.7, 2.5, 5.8],\n",
       "       [7.2, 3.6, 6.1],\n",
       "       [6.5, 3.2, 5.1],\n",
       "       [6.4, 2.7, 5.3],\n",
       "       [6.8, 3. , 5.5],\n",
       "       [5.7, 2.5, 5. ],\n",
       "       [5.8, 2.8, 5.1],\n",
       "       [6.4, 3.2, 5.3],\n",
       "       [6.5, 3. , 5.5],\n",
       "       [7.7, 3.8, 6.7],\n",
       "       [7.7, 2.6, 6.9],\n",
       "       [6. , 2.2, 5. ],\n",
       "       [6.9, 3.2, 5.7],\n",
       "       [5.6, 2.8, 4.9],\n",
       "       [7.7, 2.8, 6.7],\n",
       "       [6.3, 2.7, 4.9],\n",
       "       [6.7, 3.3, 5.7],\n",
       "       [7.2, 3.2, 6. ],\n",
       "       [6.2, 2.8, 4.8],\n",
       "       [6.1, 3. , 4.9],\n",
       "       [6.4, 2.8, 5.6],\n",
       "       [7.2, 3. , 5.8],\n",
       "       [7.4, 2.8, 6.1],\n",
       "       [7.9, 3.8, 6.4],\n",
       "       [6.4, 2.8, 5.6],\n",
       "       [6.3, 2.8, 5.1],\n",
       "       [6.1, 2.6, 5.6],\n",
       "       [7.7, 3. , 6.1],\n",
       "       [6.3, 3.4, 5.6],\n",
       "       [6.4, 3.1, 5.5],\n",
       "       [6. , 3. , 4.8],\n",
       "       [6.9, 3.1, 5.4],\n",
       "       [6.7, 3.1, 5.6],\n",
       "       [6.9, 3.1, 5.1],\n",
       "       [5.8, 2.7, 5.1],\n",
       "       [6.8, 3.2, 5.9],\n",
       "       [6.7, 3.3, 5.7],\n",
       "       [6.7, 3. , 5.2],\n",
       "       [6.3, 2.5, 5. ],\n",
       "       [6.5, 3. , 5.2],\n",
       "       [6.2, 3.4, 5.4],\n",
       "       [5.9, 3. , 5.1]])"
      ]
     },
     "execution_count": 4,
     "metadata": {},
     "output_type": "execute_result"
    }
   ],
   "source": [
    "iris.data[:,0:3]"
   ]
  },
  {
   "cell_type": "markdown",
   "id": "30ea0f27",
   "metadata": {},
   "source": [
    "The most common step function used in Perceptrons is the Heaviside step function. Sometimes sign function is used\n",
    "![Heaviside function](images/prashant/heaviside_sgn_function.png)"
   ]
  },
  {
   "cell_type": "markdown",
   "id": "09cade8f",
   "metadata": {},
   "source": [
    "It is based on a slightly different artificial neuron (see Figure 10-4) called a **threshold logic unit (TLU)**, or sometimes a linear threshold unit (LTU). The inputs and output are numbers (instead of binary on/off values), and each input connection is associated with a weight"
   ]
  },
  {
   "cell_type": "markdown",
   "id": "66463558",
   "metadata": {},
   "source": [
    "![MLP XOR function](images/prashant/MLP_XOR.png)"
   ]
  },
  {
   "cell_type": "markdown",
   "id": "1698d5b1",
   "metadata": {},
   "source": [
    "### Backpropagation\n",
    "Automatically computing gradients is called automatic differentiation, or autodiff. \n",
    "The one used by backpropagation is called reverse-mode autodiff. It is fast and precise, and is well suited when the function to differentiate has many variables (e.g., connection weights) and few outputs (e.g., one loss)"
   ]
  },
  {
   "cell_type": "markdown",
   "id": "7d3d4e16",
   "metadata": {},
   "source": [
    "Autodiff"
   ]
  },
  {
   "cell_type": "markdown",
   "id": "873eea10",
   "metadata": {},
   "source": [
    "Automatically differentiating\n",
    "- Forward auto diff -> needs more passes per parameter\n",
    "- Reverse auto diff -> needs less passes if we have less output"
   ]
  }
 ],
 "metadata": {
  "kernelspec": {
   "display_name": "Python 3",
   "language": "python",
   "name": "python3"
  },
  "language_info": {
   "codemirror_mode": {
    "name": "ipython",
    "version": 3
   },
   "file_extension": ".py",
   "mimetype": "text/x-python",
   "name": "python",
   "nbconvert_exporter": "python",
   "pygments_lexer": "ipython3",
   "version": "3.7.10"
  }
 },
 "nbformat": 4,
 "nbformat_minor": 5
}
